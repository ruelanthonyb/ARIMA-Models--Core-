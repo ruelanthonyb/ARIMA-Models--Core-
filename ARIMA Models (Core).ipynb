{
 "cells": [
  {
   "cell_type": "markdown",
   "id": "cbefa14b",
   "metadata": {},
   "source": [
    "## ARIMA Models (Core)\n",
    "* Load this Walmart stock data​.    (source​​)\n",
    "* We will use data from 2010 to 2020 to predict the  Adjusted Close values for the next quarter.\n",
    "* Make a datetime index using the Date column with a business day frequency ('B')\n",
    "* Check for and address null values.\n",
    "* Check the time series for stationarity.\n",
    "    * Determine the number of differencing (d) needed to make the data stationary. (We recommend using pmdarima's ndiffs)\n",
    "* Use ACF/PACF plots of the stationary data to estimate initial time series model orders​ (p,d,q)\n",
    "* Split the time series into training and test data. Use a test_size of one quarter (13 weeks X 5 business days)\n",
    "* Fit an ARIMA model based on the orders determined during your exploration.\n",
    "    * Make forecasts with your model.\n",
    "    * Plot the forecasts versus the test data.\n",
    "    * Obtain metrics for evaluation.\n",
    "* Try at least one variation of the model for comparison (we recommend using a loop to try combinations of model orders)\n",
    "* A MAPE of less than 2% on the test data is achievable.\n",
    "* Choose a final model and explain:\n",
    "    * How good was your model, according to your Mean Absolute Percentage Error?\n",
    "    * How good was your model in terms of how well the forecast seems to follow the test data, visually?  (Hint: You may want to plot fewer training data lags to see this)"
   ]
  },
  {
   "cell_type": "code",
   "execution_count": null,
   "id": "3f1aeb94",
   "metadata": {},
   "outputs": [],
   "source": []
  },
  {
   "cell_type": "code",
   "execution_count": null,
   "id": "93417cc6",
   "metadata": {},
   "outputs": [],
   "source": []
  },
  {
   "cell_type": "code",
   "execution_count": null,
   "id": "fb58651b",
   "metadata": {},
   "outputs": [],
   "source": []
  },
  {
   "cell_type": "code",
   "execution_count": null,
   "id": "14e3cc9d",
   "metadata": {},
   "outputs": [],
   "source": []
  },
  {
   "cell_type": "code",
   "execution_count": null,
   "id": "8e791f5b",
   "metadata": {},
   "outputs": [],
   "source": []
  }
 ],
 "metadata": {
  "kernelspec": {
   "display_name": "Python (dojo-env)",
   "language": "python",
   "name": "dojo-env"
  },
  "language_info": {
   "codemirror_mode": {
    "name": "ipython",
    "version": 3
   },
   "file_extension": ".py",
   "mimetype": "text/x-python",
   "name": "python",
   "nbconvert_exporter": "python",
   "pygments_lexer": "ipython3",
   "version": "3.11.5"
  }
 },
 "nbformat": 4,
 "nbformat_minor": 5
}
